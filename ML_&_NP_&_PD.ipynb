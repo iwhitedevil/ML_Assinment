{
  "nbformat": 4,
  "nbformat_minor": 0,
  "metadata": {
    "colab": {
      "provenance": []
    },
    "kernelspec": {
      "name": "python3",
      "display_name": "Python 3"
    },
    "language_info": {
      "name": "python"
    }
  },
  "cells": [
    {
      "cell_type": "markdown",
      "source": [
        "1. # What is the predicted value for X = 6?<br>\n",
        " A. 11<br>\n",
        " B. 12<br>\n",
        " C. 13<br>\n",
        " D. 14<br>\n"
      ],
      "metadata": {
        "id": "_M_FkMsBPhJ1"
      }
    },
    {
      "cell_type": "code",
      "execution_count": 6,
      "metadata": {
        "colab": {
          "base_uri": "https://localhost:8080/"
        },
        "id": "nvEYrboLKuZc",
        "outputId": "47bab31f-07ed-4610-914d-0a8782370dfd"
      },
      "outputs": [
        {
          "output_type": "execute_result",
          "data": {
            "text/plain": [
              "array([12.])"
            ]
          },
          "metadata": {},
          "execution_count": 6
        }
      ],
      "source": [
        "import numpy as np\n",
        "from sklearn.linear_model import LinearRegression\n",
        "x = np.array([1,2,3,4,5]).reshape(-1,1)\n",
        "y = np.array([2,4,6,8,10])\n",
        "model = LinearRegression()\n",
        "model.fit(x,y)\n",
        "predicted_value = model.predict([[6]])\n",
        "predicted_value"
      ]
    },
    {
      "cell_type": "markdown",
      "source": [
        "2. What is the predicted class for the data point [2, 2]?<br>\n",
        "A. 0<br>\n",
        " B. 1<br>\n",
        " C. It cannot be determined from the given information.<br>\n"
      ],
      "metadata": {
        "id": "4gpbnev9PxTq"
      }
    },
    {
      "cell_type": "code",
      "source": [
        "from sklearn.tree import DecisionTreeClassifier\n",
        "\n",
        "x = np.array([[1,2],[2,3],[3,1],[4,4],[5,3]])\n",
        "y = np.array([0,0,1,1,0])\n",
        "\n",
        "model = DecisionTreeClassifier()\n",
        "model.fit(x,y)\n",
        "\n",
        "model.predict([[2,2]])"
      ],
      "metadata": {
        "colab": {
          "base_uri": "https://localhost:8080/"
        },
        "id": "FN3pLtExLXob",
        "outputId": "3b7d8771-262b-447a-a0f6-de9f82372bef"
      },
      "execution_count": 7,
      "outputs": [
        {
          "output_type": "execute_result",
          "data": {
            "text/plain": [
              "array([0])"
            ]
          },
          "metadata": {},
          "execution_count": 7
        }
      ]
    },
    {
      "cell_type": "markdown",
      "source": [
        "3. Which cluster is the data point [3, 2] assigned to?<br>\n",
        "A. Cluster 0<br>\n",
        "B. Cluster 1<br>\n"
      ],
      "metadata": {
        "id": "kWxlZbypP9Fz"
      }
    },
    {
      "cell_type": "code",
      "source": [
        "from sklearn.cluster import KMeans\n",
        "\n",
        "x = np.array([[1,2],[2,3],[3,1],[4,4],[5,3],[9,10],[8,9],[10,8]])\n",
        "\n",
        "model = KMeans(n_clusters=2,random_state=0)\n",
        "\n",
        "model.fit(x)\n",
        "\n",
        "model.predict([[3,2]])"
      ],
      "metadata": {
        "colab": {
          "base_uri": "https://localhost:8080/"
        },
        "id": "fggHBHQeMRoB",
        "outputId": "2d6bd17c-6f31-40cb-91c8-063bebd2ec0b"
      },
      "execution_count": 12,
      "outputs": [
        {
          "output_type": "stream",
          "name": "stderr",
          "text": [
            "/usr/local/lib/python3.10/dist-packages/sklearn/cluster/_kmeans.py:870: FutureWarning: The default value of `n_init` will change from 10 to 'auto' in 1.4. Set the value of `n_init` explicitly to suppress the warning\n",
            "  warnings.warn(\n"
          ]
        },
        {
          "output_type": "execute_result",
          "data": {
            "text/plain": [
              "array([0], dtype=int32)"
            ]
          },
          "metadata": {},
          "execution_count": 12
        }
      ]
    },
    {
      "cell_type": "markdown",
      "source": [
        "4. After training, what type of problem is this RNN model suitable for?<br>\n",
        " A. Image classification<br>\n",
        " B. Text generation<br>\n",
        " C. Time series prediction<br>\n",
        " D. Reinforcement learning<br>\n",
        "\n",
        "\n",
        " Ans : == C\n"
      ],
      "metadata": {
        "id": "ZbcUmMeKNwx1"
      }
    },
    {
      "cell_type": "markdown",
      "source": [
        "5. What does the value of n_components=10 represent in PCA?<br>\n",
        " A. It reduces the dataset to 10 features.<br>\n",
        " B. It retains the top 10 principal components.<br>\n",
        " C. It computes the explained variance ratio for the top 10 components.<br>\n",
        " D. It selects the first 10 data points.<br>\n",
        "\n",
        " Ans : ==>  C\n"
      ],
      "metadata": {
        "id": "bZIfJ1xxODy4"
      }
    },
    {
      "cell_type": "markdown",
      "source": [
        "### I left a question reason of execution more time of reinforment learning catplote-v1"
      ],
      "metadata": {
        "id": "UzADajeHmE0S"
      }
    },
    {
      "cell_type": "code",
      "source": [],
      "metadata": {
        "id": "j6AjsbbmQLkK"
      },
      "execution_count": null,
      "outputs": []
    },
    {
      "cell_type": "code",
      "source": [],
      "metadata": {
        "id": "JT6VgeGLQLjT"
      },
      "execution_count": null,
      "outputs": []
    },
    {
      "cell_type": "markdown",
      "source": [
        "Question 1: Binary Classification with scikit-learn\n",
        "Problem Statement:<br><br>\n",
        "You need to build a binary classification model using scikit-learn to predict whether a customer will buy a product (1 for yes, 0 for no) based on their age and income. Here's the dummy dataset:\n"
      ],
      "metadata": {
        "id": "uMplxDhHQNaE"
      }
    },
    {
      "cell_type": "code",
      "source": [
        "import pandas as pd\n",
        "from sklearn.model_selection import train_test_split\n",
        "from sklearn.linear_model import LogisticRegression\n",
        "from sklearn.metrics import accuracy_score,classification_report\n",
        "\n",
        "\n",
        "data = pd.DataFrame({\n",
        "    'Age': [25,30,35,40,45,50,55,60,65,70],\n",
        "    'Income': [40000,45000,60000,80000,90000,75000,55000,60000,50000,45000],\n",
        "    'Buy' : [1,0,1,1,0,1,0,0,0,1]\n",
        "})\n",
        "\n",
        "x = data.drop('Buy',axis=1)\n",
        "y = data.Buy\n",
        "\n",
        "x_train,x_test,y_train,y_test = train_test_split(x,y,random_state=42,test_size=0.25)\n",
        "\n",
        "model = LogisticRegression()\n",
        "\n",
        "model.fit(x_train,y_train)\n",
        "\n",
        "y_pred = model.predict(x_test)\n",
        "\n",
        "print('Accuracy : ', accuracy_score(y_test,y_pred))\n",
        "\n",
        "print('\\n')\n",
        "\n",
        "print('Classification Report : \\n',classification_report(y_test,y_pred))"
      ],
      "metadata": {
        "colab": {
          "base_uri": "https://localhost:8080/"
        },
        "id": "OdlbUEGsPc3n",
        "outputId": "a1aa454b-127a-49e1-882f-e8268f8b34df"
      },
      "execution_count": 11,
      "outputs": [
        {
          "output_type": "stream",
          "name": "stdout",
          "text": [
            "Accuracy :  0.3333333333333333\n",
            "\n",
            "\n",
            "Classification Report : \n",
            "               precision    recall  f1-score   support\n",
            "\n",
            "           0       0.00      0.00      0.00         2\n",
            "           1       0.33      1.00      0.50         1\n",
            "\n",
            "    accuracy                           0.33         3\n",
            "   macro avg       0.17      0.50      0.25         3\n",
            "weighted avg       0.11      0.33      0.17         3\n",
            "\n"
          ]
        },
        {
          "output_type": "stream",
          "name": "stderr",
          "text": [
            "/usr/local/lib/python3.10/dist-packages/sklearn/metrics/_classification.py:1344: UndefinedMetricWarning: Precision and F-score are ill-defined and being set to 0.0 in labels with no predicted samples. Use `zero_division` parameter to control this behavior.\n",
            "  _warn_prf(average, modifier, msg_start, len(result))\n",
            "/usr/local/lib/python3.10/dist-packages/sklearn/metrics/_classification.py:1344: UndefinedMetricWarning: Precision and F-score are ill-defined and being set to 0.0 in labels with no predicted samples. Use `zero_division` parameter to control this behavior.\n",
            "  _warn_prf(average, modifier, msg_start, len(result))\n",
            "/usr/local/lib/python3.10/dist-packages/sklearn/metrics/_classification.py:1344: UndefinedMetricWarning: Precision and F-score are ill-defined and being set to 0.0 in labels with no predicted samples. Use `zero_division` parameter to control this behavior.\n",
            "  _warn_prf(average, modifier, msg_start, len(result))\n"
          ]
        }
      ]
    },
    {
      "cell_type": "markdown",
      "source": [
        "Question 2: Multiclass Classification with Dummy Data\n",
        "Problem Statement:<br>\n",
        "Build a multiclass classification model using scikit-learn to classify fruits into three categories (\"Apple,\" \"Banana,\" \"Orange\") based on their weight and color. Here's the dummy dataset:\n"
      ],
      "metadata": {
        "id": "4r34JwiGSxOp"
      }
    },
    {
      "cell_type": "code",
      "source": [
        "from sklearn.preprocessing import LabelEncoder\n",
        "data = pd.DataFrame({\n",
        "    'Weight (grams)' : [120,150,130,140,180,200,160,190,170,110],\n",
        "    'Color (1=Red,2=Yellow , 3=Orange)' : [1,2,1,2,3,2,3,1,2,3],\n",
        "    'Fruite' : ['Apple','Banana','Apple','Banana','Orange','Banana','Orange','Apple','Banana','Apple']\n",
        "})\n",
        "\n",
        "\n",
        "data.Fruite = LabelEncoder().fit_transform(data.Fruite)\n",
        "\n",
        "x = data.drop('Fruite',axis=1)\n",
        "y = data.Fruite\n",
        "\n",
        "x_train,x_test,y_train,y_test = train_test_split(x,y,random_state=42,test_size=0.20)\n",
        "\n",
        "model = DecisionTreeClassifier()\n",
        "\n",
        "model.fit(x_train,y_train)\n",
        "\n",
        "y_pred = model.predict(x_test)\n",
        "\n",
        "print('Accuracy : ', accuracy_score(y_test,y_pred))\n",
        "\n",
        "print('\\n')\n",
        "\n",
        "print('Classification Report : ',classification_report(y_test,y_pred))"
      ],
      "metadata": {
        "colab": {
          "base_uri": "https://localhost:8080/"
        },
        "id": "9B9OFg3ZS3oJ",
        "outputId": "c931be9d-e501-424d-cd71-61c7fdb9e870"
      },
      "execution_count": 8,
      "outputs": [
        {
          "output_type": "stream",
          "name": "stdout",
          "text": [
            "Accuracy :  1.0\n",
            "\n",
            "\n",
            "Classification Report :                precision    recall  f1-score   support\n",
            "\n",
            "           1       1.00      1.00      1.00         2\n",
            "\n",
            "    accuracy                           1.00         2\n",
            "   macro avg       1.00      1.00      1.00         2\n",
            "weighted avg       1.00      1.00      1.00         2\n",
            "\n"
          ]
        }
      ]
    },
    {
      "cell_type": "markdown",
      "source": [
        "Question 3: Clustering with scikit-learn<br>\n",
        "Problem Statement:<br>\n",
        "You need to perform clustering on a dummy dataset of customer data to group similar customers together. Use the K-Means clustering algorithm from scikit-learn.\n"
      ],
      "metadata": {
        "id": "HHV9q9fJWceA"
      }
    },
    {
      "cell_type": "code",
      "source": [
        "import matplotlib.pyplot as plt\n",
        "\n",
        "data = pd.DataFrame({\n",
        "    'Age' : [22,24,30,20,25,28,35,40,50,60],\n",
        "    'Income (in $1000)' : [20,22,25,18,35,40,60,55,80,85]\n",
        "})\n",
        "\n",
        "\n",
        "model = KMeans()\n",
        "\n",
        "model.fit(data)\n",
        "\n",
        "y_pred = model.predict(data)\n",
        "\n",
        "# Get cluster centers (centroids)\n",
        "centroids = model.cluster_centers_\n",
        "\n",
        "# Plot the data points and centroids\n",
        "plt.scatter(data['Age'], data['Income (in $1000)'], c=y_pred, cmap='rainbow')\n",
        "plt.scatter(centroids[:, 0], centroids[:, 1], marker='x', s=200, linewidths=3, color='black', label='Centroids')\n",
        "plt.xlabel('Age')\n",
        "plt.ylabel('Income (in $1000)')\n",
        "plt.title('K-means Clustering')\n",
        "plt.legend()\n",
        "plt.show()\n",
        "\n",
        "\n",
        "\n",
        "\n",
        "\n"
      ],
      "metadata": {
        "colab": {
          "base_uri": "https://localhost:8080/",
          "height": 527
        },
        "id": "Rr0DpbDQWAVK",
        "outputId": "c0d62d12-85e3-489e-c77b-ea518c4aeb42"
      },
      "execution_count": 14,
      "outputs": [
        {
          "output_type": "stream",
          "name": "stderr",
          "text": [
            "/usr/local/lib/python3.10/dist-packages/sklearn/cluster/_kmeans.py:870: FutureWarning: The default value of `n_init` will change from 10 to 'auto' in 1.4. Set the value of `n_init` explicitly to suppress the warning\n",
            "  warnings.warn(\n"
          ]
        },
        {
          "output_type": "display_data",
          "data": {
            "text/plain": [
              "<Figure size 640x480 with 1 Axes>"
            ],
            "image/png": "[encoded data removed]"
          },
          "metadata": {}
        }
      ]
    },
    {
      "cell_type": "markdown",
      "source": [
        "Question 4: Regression with scikit-learn<br>\n",
        "Problem Statement:<br>\n",
        "Build a regression model using scikit-learn to predict house prices based on the number of bedrooms and square footage. Here's the dummy dataset:\n"
      ],
      "metadata": {
        "id": "U045LuNCY3AH"
      }
    },
    {
      "cell_type": "code",
      "source": [
        "import pandas as pd\n",
        "from sklearn.model_selection import train_test_split\n",
        "from sklearn.linear_model import LinearRegression\n",
        "from sklearn.metrics import mean_squared_error, r2_score\n",
        "\n",
        "# Create a dummy dataset\n",
        "data = pd.DataFrame({\n",
        "    'Bedrooms': [2, 3, 2, 4, 3, 3, 4, 2, 5, 4],\n",
        "    'Square Footage': [1200, 1500, 1300, 2000, 1800, 1600, 2200, 1100, 2500, 2100],\n",
        "    'Price (in $1000)': [150, 200, 180, 250, 220, 210, 280, 140, 320, 290]\n",
        "})\n",
        "\n",
        "# Split the data into training and testing sets\n",
        "X = data[['Bedrooms', 'Square Footage']]\n",
        "y = data['Price (in $1000)']\n",
        "\n",
        "X_train, X_test, y_train, y_test = train_test_split(X, y, test_size=0.2, random_state=42)\n",
        "\n",
        "# Build a linear regression model\n",
        "model = LinearRegression()\n",
        "\n",
        "# Train the model on the training data\n",
        "model.fit(X_train, y_train)\n",
        "\n",
        "# Make predictions on the test data\n",
        "y_pred = model.predict(X_test)\n",
        "\n",
        "# Evaluate the model's performance using mean squared error and R-squared\n",
        "mse = mean_squared_error(y_test, y_pred)\n",
        "r2 = r2_score(y_test, y_pred)\n",
        "\n",
        "print(f\"Mean Squared Error: {mse:.2f}\")\n",
        "print(f\"R-squared: {r2:.2f}\")\n"
      ],
      "metadata": {
        "colab": {
          "base_uri": "https://localhost:8080/"
        },
        "id": "kGDrtxsRY2u7",
        "outputId": "b9633891-cce1-4f86-941d-fde1682be74b"
      },
      "execution_count": 15,
      "outputs": [
        {
          "output_type": "stream",
          "name": "stdout",
          "text": [
            "Mean Squared Error: 21.85\n",
            "R-squared: 0.99\n"
          ]
        }
      ]
    },
    {
      "cell_type": "markdown",
      "source": [
        "Question 5: Natural Language Processing (NLP) with Text Classification<br>\n",
        "Problem Statement:<br>\n",
        "Perform text classification using scikit-learn to classify movie reviews into two categories (\"Positive\"\n",
        "and \"Negative\") based on their text content."
      ],
      "metadata": {
        "id": "eecx4i3FaZ_m"
      }
    },
    {
      "cell_type": "code",
      "source": [
        "import pandas as pd\n",
        "from sklearn.model_selection import train_test_split\n",
        "from sklearn.feature_extraction.text import TfidfVectorizer\n",
        "from sklearn.naive_bayes import MultinomialNB\n",
        "from sklearn.metrics import accuracy_score, classification_report\n",
        "from sklearn.preprocessing import LabelEncoder\n",
        "\n",
        "# Create a dummy dataset\n",
        "data = pd.DataFrame({\n",
        "    'Text': [\n",
        "        \"This movie is amazing!\", \"I didn't like it at all.\", \"Great plot and acting.\",\n",
        "        \"Worst movie ever!\", \"Enjoyed every moment.\", \"Terrible screenplay.\",\n",
        "        \"Highly recommended!\", \"Couldn't finish it.\", \"Loved it!\"\n",
        "    ],\n",
        "    'Sentiment': ['Positive', 'Negative', 'Positive', 'Negative', 'Positive', 'Negative', 'Positive', 'Negative', 'Positive']\n",
        "})\n",
        "\n",
        "# Split the data into training and testing sets\n",
        "X = data['Text']\n",
        "y = data['Sentiment']\n",
        "y = LabelEncoder().fit_transform(y)\n",
        "X_train, X_test, y_train, y_test = train_test_split(X, y, test_size=0.2, random_state=42)\n",
        "\n",
        "# Create a TF-IDF vectorizer and transform the text data\n",
        "tfidf_vectorizer = TfidfVectorizer(max_features=5000)  # You can adjust max_features as needed\n",
        "X_train_tfidf = tfidf_vectorizer.fit_transform(X_train)\n",
        "X_test_tfidf = tfidf_vectorizer.transform(X_test)\n",
        "\n",
        "# Build a machine learning model (e.g., Naive Bayes) and train it on the training data\n",
        "model = MultinomialNB()\n",
        "model.fit(X_train_tfidf, y_train)\n",
        "\n",
        "# Make predictions on the test data\n",
        "y_pred = model.predict(X_test_tfidf)\n",
        "\n",
        "# Evaluate the model's accuracy and provide a classification report\n",
        "accuracy = accuracy_score(y_test, y_pred)\n",
        "classification_rep = classification_report(y_test, y_pred)\n",
        "\n",
        "print(f\"Accuracy: {accuracy:.2f}\")\n",
        "print(\"Classification Report:\")\n",
        "print(classification_rep)\n"
      ],
      "metadata": {
        "colab": {
          "base_uri": "https://localhost:8080/"
        },
        "id": "Rf46dHypYWCP",
        "outputId": "168d078a-c8b6-48d6-9ce9-c89e63f4d4e0"
      },
      "execution_count": 17,
      "outputs": [
        {
          "output_type": "stream",
          "name": "stdout",
          "text": [
            "Accuracy: 0.00\n",
            "Classification Report:\n",
            "              precision    recall  f1-score   support\n",
            "\n",
            "           0       0.00      0.00      0.00       2.0\n",
            "           1       0.00      0.00      0.00       0.0\n",
            "\n",
            "    accuracy                           0.00       2.0\n",
            "   macro avg       0.00      0.00      0.00       2.0\n",
            "weighted avg       0.00      0.00      0.00       2.0\n",
            "\n"
          ]
        },
        {
          "output_type": "stream",
          "name": "stderr",
          "text": [
            "/usr/local/lib/python3.10/dist-packages/sklearn/metrics/_classification.py:1344: UndefinedMetricWarning: Precision and F-score are ill-defined and being set to 0.0 in labels with no predicted samples. Use `zero_division` parameter to control this behavior.\n",
            "  _warn_prf(average, modifier, msg_start, len(result))\n",
            "/usr/local/lib/python3.10/dist-packages/sklearn/metrics/_classification.py:1344: UndefinedMetricWarning: Recall and F-score are ill-defined and being set to 0.0 in labels with no true samples. Use `zero_division` parameter to control this behavior.\n",
            "  _warn_prf(average, modifier, msg_start, len(result))\n",
            "/usr/local/lib/python3.10/dist-packages/sklearn/metrics/_classification.py:1344: UndefinedMetricWarning: Precision and F-score are ill-defined and being set to 0.0 in labels with no predicted samples. Use `zero_division` parameter to control this behavior.\n",
            "  _warn_prf(average, modifier, msg_start, len(result))\n",
            "/usr/local/lib/python3.10/dist-packages/sklearn/metrics/_classification.py:1344: UndefinedMetricWarning: Recall and F-score are ill-defined and being set to 0.0 in labels with no true samples. Use `zero_division` parameter to control this behavior.\n",
            "  _warn_prf(average, modifier, msg_start, len(result))\n",
            "/usr/local/lib/python3.10/dist-packages/sklearn/metrics/_classification.py:1344: UndefinedMetricWarning: Precision and F-score are ill-defined and being set to 0.0 in labels with no predicted samples. Use `zero_division` parameter to control this behavior.\n",
            "  _warn_prf(average, modifier, msg_start, len(result))\n",
            "/usr/local/lib/python3.10/dist-packages/sklearn/metrics/_classification.py:1344: UndefinedMetricWarning: Recall and F-score are ill-defined and being set to 0.0 in labels with no true samples. Use `zero_division` parameter to control this behavior.\n",
            "  _warn_prf(average, modifier, msg_start, len(result))\n"
          ]
        }
      ]
    },
    {
      "cell_type": "markdown",
      "source": [
        "Question 6: Time Series Forecasting<br>\n",
        "Problem Statement:<br>\n",
        "Perform time series forecasting using scikit-learn to predict stock prices based on historical data."
      ],
      "metadata": {
        "id": "Q278PqFdbr1q"
      }
    },
    {
      "cell_type": "code",
      "source": [
        "import pandas as pd\n",
        "from sklearn.model_selection import train_test_split\n",
        "from sklearn.linear_model import LinearRegression\n",
        "from sklearn.metrics import mean_squared_error, r2_score\n",
        "\n",
        "# Create a dummy dataset of historical stock prices\n",
        "data = pd.DataFrame({\n",
        "    'Date': ['2023-01-01', '2023-01-02', '2023-01-03', '2023-01-04', '2023-01-05'],\n",
        "    'Stock Price': [100, 105, 110, 108, 115]\n",
        "})\n",
        "\n",
        "# Convert the 'Date' column to datetime and set it as the index\n",
        "data['Date'] = pd.to_datetime(data['Date'])\n",
        "data['Days Since Start'] = (data['Date'] - data['Date'].min()).dt.days  # Calculate days since the reference date\n",
        "data.set_index('Date', inplace=True)\n",
        "\n",
        "# Split the data into training and testing sets\n",
        "X = data[['Days Since Start']]\n",
        "y = data['Stock Price']\n",
        "X_train, X_test, y_train, y_test = train_test_split(X, y, test_size=0.2, random_state=42)\n",
        "\n",
        "# Build a time series forecasting model (e.g., Linear Regression) and train it on the training data\n",
        "model = LinearRegression()\n",
        "model.fit(X_train, y_train)\n",
        "\n",
        "# Make predictions on the test data\n",
        "y_pred = model.predict(X_test)\n",
        "\n",
        "# Evaluate the model's performance using mean squared error and R-squared\n",
        "mse = mean_squared_error(y_test, y_pred)\n",
        "r2 = r2_score(y_test, y_pred)\n",
        "\n",
        "print(f\"Mean Squared Error: {mse:.2f}\")\n",
        "print(f\"R-squared: {r2:.2f}\")\n"
      ],
      "metadata": {
        "colab": {
          "base_uri": "https://localhost:8080/"
        },
        "id": "gE6AFiw9avFv",
        "outputId": "9b5ee528-6ff8-4544-e87a-0f532f1099a4"
      },
      "execution_count": 19,
      "outputs": [
        {
          "output_type": "stream",
          "name": "stdout",
          "text": [
            "Mean Squared Error: 1.00\n",
            "R-squared: nan\n"
          ]
        },
        {
          "output_type": "stream",
          "name": "stderr",
          "text": [
            "/usr/local/lib/python3.10/dist-packages/sklearn/metrics/_regression.py:918: UndefinedMetricWarning: R^2 score is not well-defined with less than two samples.\n",
            "  warnings.warn(msg, UndefinedMetricWarning)\n"
          ]
        }
      ]
    },
    {
      "cell_type": "markdown",
      "source": [
        "Question 7: Anomaly Detection with scikit-learn<br>\n",
        "Problem Statement:<br>\n",
        "Detect anomalies in a dataset of sensor readings using scikit-learn."
      ],
      "metadata": {
        "id": "bnAqDWfYdOGn"
      }
    },
    {
      "cell_type": "code",
      "source": [
        "import pandas as pd\n",
        "from sklearn.ensemble import IsolationForest\n",
        "\n",
        "# Create a dummy dataset of sensor readings (1D)\n",
        "data = pd.DataFrame({\n",
        "    'Sensor Reading': [10.2, 11.1, 10.3, 10.5, 10.2, 100.0, 10.4, 10.3, 10.2, 10.6]\n",
        "})\n",
        "\n",
        "# Perform anomaly detection using Isolation Forest\n",
        "clf = IsolationForest(contamination=0.1, random_state=42)  # You can adjust the contamination parameter\n",
        "clf.fit(data)\n",
        "\n",
        "# Identify and print the detected anomalies\n",
        "anomalies = clf.predict(data)\n",
        "detected_anomalies = data[anomalies == -1]\n",
        "\n",
        "print(\"Detected Anomalies:\")\n",
        "print(detected_anomalies)\n"
      ],
      "metadata": {
        "colab": {
          "base_uri": "https://localhost:8080/"
        },
        "id": "G5ZIJ0LpcCKe",
        "outputId": "27a03a61-d3b8-4955-9e05-605a3644fccf"
      },
      "execution_count": 20,
      "outputs": [
        {
          "output_type": "stream",
          "name": "stderr",
          "text": [
            "/usr/local/lib/python3.10/dist-packages/sklearn/base.py:439: UserWarning: X does not have valid feature names, but IsolationForest was fitted with feature names\n",
            "  warnings.warn(\n"
          ]
        },
        {
          "output_type": "stream",
          "name": "stdout",
          "text": [
            "Detected Anomalies:\n",
            "   Sensor Reading\n",
            "5           100.0\n"
          ]
        }
      ]
    },
    {
      "cell_type": "markdown",
      "source": [
        "Question 8: Dimensionality Reduction with Principal Component Analysis (PCA)<br>\n",
        "Problem Statement:<br>\n",
        "Perform dimensionality reduction using PCA on a dataset of features."
      ],
      "metadata": {
        "id": "uU_KqQ_IdqZ3"
      }
    },
    {
      "cell_type": "code",
      "source": [
        "import pandas as pd\n",
        "from sklearn.decomposition import PCA\n",
        "\n",
        "# Create a dummy dataset of features\n",
        "data = pd.DataFrame({\n",
        "    'Feature1': [1.0, 2.0, 3.0, 4.0, 5.0],\n",
        "    'Feature2': [5.0, 4.0, 3.0, 2.0, 1.0],\n",
        "    'Feature3': [0.5, 1.5, 2.5, 3.5, 4.5]\n",
        "})\n",
        "\n",
        "# Perform PCA to reduce the dimensionality\n",
        "pca = PCA()\n",
        "data_pca = pca.fit_transform(data)\n",
        "\n",
        "# Print the principal components and their explained variance ratio\n",
        "print(\"Principal Components:\")\n",
        "print(pca.components_)\n",
        "print(\"\\nExplained Variance Ratio:\")\n",
        "print(pca.explained_variance_ratio_)\n"
      ],
      "metadata": {
        "colab": {
          "base_uri": "https://localhost:8080/"
        },
        "id": "QppeHovrdeAG",
        "outputId": "71117946-86cc-44c0-a12b-ddb62a2d5020"
      },
      "execution_count": 21,
      "outputs": [
        {
          "output_type": "stream",
          "name": "stdout",
          "text": [
            "Principal Components:\n",
            "[[-0.57735027  0.57735027 -0.57735027]\n",
            " [-0.81649658 -0.40824829  0.40824829]\n",
            " [-0.         -0.70710678 -0.70710678]]\n",
            "\n",
            "Explained Variance Ratio:\n",
            "[1.00000000e+00 6.57384088e-33 2.02572112e-64]\n"
          ]
        }
      ]
    },
    {
      "cell_type": "markdown",
      "source": [
        "Question 9: Recommender System with Dummy User Ratings<br>\n",
        "Problem Statement:<br>\n",
        "Build a basic recommender system that recommends movies to a user based on their ratings."
      ],
      "metadata": {
        "id": "yKtTJGjEd2ca"
      }
    },
    {
      "cell_type": "code",
      "source": [
        "import pandas as pd\n",
        "from sklearn.metrics.pairwise import cosine_similarity\n",
        "\n",
        "# Create a dummy dataset of user ratings for movies\n",
        "data = pd.DataFrame({\n",
        "    'User': ['User1', 'User2', 'User3', 'TargetUser'],\n",
        "    'Movie1': [5, 4, 0, 2],\n",
        "    'Movie2': [0, 5, 4, 0],\n",
        "    'Movie3': [3, 0, 5, 0],\n",
        "    'Movie4': [0, 3, 0, 4]\n",
        "})\n",
        "\n",
        "# Set the 'User' column as the index\n",
        "data.set_index('User', inplace=True)\n",
        "\n",
        "# Extract the ratings of the target user\n",
        "target_user_ratings = data.loc['TargetUser'].values.reshape(1, -1)\n",
        "\n",
        "# Calculate the similarity between users using cosine similarity\n",
        "similarities = cosine_similarity(data, target_user_ratings)\n",
        "\n",
        "# Create a DataFrame to store similarities and user names\n",
        "similarities_df = pd.DataFrame(similarities, index=data.index, columns=['Similarity'])\n",
        "\n",
        "# Sort the users by similarity in descending order\n",
        "similarities_df = similarities_df.sort_values(by='Similarity', ascending=False)\n",
        "\n",
        "# Recommend movies to the target user based on the highest similarity user\n",
        "most_similar_user = similarities_df.index[1]  # The first user is the target user, so we skip it\n",
        "recommended_movies = data.loc[most_similar_user]\n",
        "\n",
        "# Filter out movies that the target user has already rated\n",
        "recommended_movies = recommended_movies[recommended_movies == 0]\n",
        "\n",
        "# Sort the recommended movies by predicted ratings in descending order\n",
        "recommended_movies = recommended_movies.sort_values(ascending=False)\n",
        "\n",
        "print(\"Recommended Movies:\")\n",
        "print(recommended_movies)\n"
      ],
      "metadata": {
        "colab": {
          "base_uri": "https://localhost:8080/"
        },
        "id": "65udT1gPdxbb",
        "outputId": "ef7d8e9a-5c66-4702-b17c-992eee0c86c4"
      },
      "execution_count": 22,
      "outputs": [
        {
          "output_type": "stream",
          "name": "stdout",
          "text": [
            "Recommended Movies:\n",
            "Movie3    0\n",
            "Name: User2, dtype: int64\n"
          ]
        }
      ]
    },
    {
      "cell_type": "markdown",
      "source": [
        "Question 10: Anomaly Detection with Dummy Time Series Data<br>\n",
        "Problem Statement:<br>\n",
        "Detect anomalies in a time series dataset using scikit-learn."
      ],
      "metadata": {
        "id": "JdILctI9eEBe"
      }
    },
    {
      "cell_type": "code",
      "source": [
        "import pandas as pd\n",
        "from sklearn.ensemble import IsolationForest\n",
        "\n",
        "# Create a dummy time series dataset\n",
        "data = pd.DataFrame({\n",
        "    'Date': ['2023-01-01', '2023-01-02', '2023-01-03', '2023-01-04', '2023-01-05'],\n",
        "    'Value': [10.2, 11.1, 10.3, 10.5, 100.0]\n",
        "})\n",
        "\n",
        "# Convert the 'Date' column to datetime\n",
        "data['Date'] = pd.to_datetime(data['Date'])\n",
        "\n",
        "# Create a feature matrix for anomaly detection\n",
        "X = data[['Value']]\n",
        "\n",
        "# Perform anomaly detection using Isolation Forest\n",
        "clf = IsolationForest(contamination=0.1, random_state=42)  # You can adjust the contamination parameter\n",
        "clf.fit(X)\n",
        "\n",
        "# Identify and print the detected anomalies\n",
        "anomalies = clf.predict(X)\n",
        "detected_anomalies = data[anomalies == -1]\n",
        "\n",
        "print(\"Detected Anomalies:\")\n",
        "print(detected_anomalies)\n"
      ],
      "metadata": {
        "colab": {
          "base_uri": "https://localhost:8080/"
        },
        "id": "4h5aHxXFd-kX",
        "outputId": "039b6755-f808-42af-b6ad-d19663f2161d"
      },
      "execution_count": 23,
      "outputs": [
        {
          "output_type": "stream",
          "name": "stdout",
          "text": [
            "Detected Anomalies:\n",
            "        Date  Value\n",
            "4 2023-01-05  100.0\n"
          ]
        },
        {
          "output_type": "stream",
          "name": "stderr",
          "text": [
            "/usr/local/lib/python3.10/dist-packages/sklearn/base.py:439: UserWarning: X does not have valid feature names, but IsolationForest was fitted with feature names\n",
            "  warnings.warn(\n"
          ]
        }
      ]
    },
    {
      "cell_type": "markdown",
      "source": [
        "## Numpy & Pandas Ans"
      ],
      "metadata": {
        "id": "kplFwQSCerBu"
      }
    },
    {
      "cell_type": "markdown",
      "source": [
        "Q 1<br> A. [5, 7, 9]"
      ],
      "metadata": {
        "id": "XoihEe6Heu17"
      }
    },
    {
      "cell_type": "markdown",
      "source": [
        "Q 2<br>  B. [2 4]"
      ],
      "metadata": {
        "id": "L7xeOGhHeyQo"
      }
    },
    {
      "cell_type": "markdown",
      "source": [
        "Q 3.<br>\n",
        "C. ['Alice', 'Bob']"
      ],
      "metadata": {
        "id": "Au78COCmh_ed"
      }
    },
    {
      "cell_type": "markdown",
      "source": [
        "Q 4. <br>\n",
        "D. 2.5"
      ],
      "metadata": {
        "id": "-Frc70zYh4ym"
      }
    },
    {
      "cell_type": "markdown",
      "source": [
        "Q 5. <br>\n",
        "A. [10, 40, 90, 160, 250]"
      ],
      "metadata": {
        "id": "rbbWH4gehxLr"
      }
    },
    {
      "cell_type": "markdown",
      "source": [
        "Q 6. <br>\n",
        "A. [5, 7, 9]\n"
      ],
      "metadata": {
        "id": "Opy14gcYhhRP"
      }
    },
    {
      "cell_type": "markdown",
      "source": [
        "Q 7.<br>\n",
        "A. ['Bob', 'Charlie']"
      ],
      "metadata": {
        "id": "ivbPGRKRiQSN"
      }
    },
    {
      "cell_type": "markdown",
      "source": [
        "Q 8 <br>\n",
        "A. [1, 2, 3, 4, 5, 6, 9]"
      ],
      "metadata": {
        "id": "1EOzIG6XhS17"
      }
    },
    {
      "cell_type": "markdown",
      "source": [
        "Q 9<br>\n",
        "A. A 6 B 15 dtype: int64"
      ],
      "metadata": {
        "id": "B5iJZrgnhAsX"
      }
    },
    {
      "cell_type": "markdown",
      "source": [
        "Q 10<br>\n",
        "D. 3.75\n"
      ],
      "metadata": {
        "id": "ypinWv7Qg7R7"
      }
    },
    {
      "cell_type": "markdown",
      "source": [
        "# Progrmming Questions"
      ],
      "metadata": {
        "id": "nlHxeCw-imV0"
      }
    },
    {
      "cell_type": "markdown",
      "source": [
        "1"
      ],
      "metadata": {
        "id": "cmiIYPVFi4L8"
      }
    },
    {
      "cell_type": "code",
      "source": [
        "import pandas as pd\n",
        "\n",
        "# Create the DataFrame 'df'\n",
        "data = {'Name': ['Alice', 'Bob', 'Charlie'],\n",
        "        'Age': [25, 30, 22]}\n",
        "\n",
        "df = pd.DataFrame(data)\n",
        "\n",
        "# Print the DataFrame 'df'\n",
        "print(\"DataFrame 'df':\")\n",
        "print(df)\n",
        "\n",
        "# Test Case 1: Print the age of the person with the name \"Alice\"\n",
        "age_of_alice = df[df['Name'] == 'Alice']['Age'].values[0]\n",
        "print(\"\\nAge of Alice:\", age_of_alice)\n",
        "\n",
        "# Test Case 2: Calculate the average age of all individuals in the DataFrame\n",
        "average_age = df['Age'].mean()\n",
        "print(\"\\nAverage Age of All Individuals:\", average_age)\n"
      ],
      "metadata": {
        "colab": {
          "base_uri": "https://localhost:8080/"
        },
        "id": "btKp6fXHeKue",
        "outputId": "11f32dc5-62fe-4a07-c853-ec197e7b1a32"
      },
      "execution_count": 24,
      "outputs": [
        {
          "output_type": "stream",
          "name": "stdout",
          "text": [
            "DataFrame 'df':\n",
            "      Name  Age\n",
            "0    Alice   25\n",
            "1      Bob   30\n",
            "2  Charlie   22\n",
            "\n",
            "Age of Alice: 25\n",
            "\n",
            "Average Age of All Individuals: 25.666666666666668\n"
          ]
        }
      ]
    },
    {
      "cell_type": "markdown",
      "source": [
        "2"
      ],
      "metadata": {
        "id": "IaD0dacil0-w"
      }
    },
    {
      "cell_type": "code",
      "source": [
        "import pandas as pd\n",
        "\n",
        "# Create the DataFrame 'df'\n",
        "data = {'City': [\"New York\", \"Los Angeles\", \"Chicago\"],\n",
        "        'Population': [8623000, 3999759, 2716000]}\n",
        "\n",
        "df = pd.DataFrame(data)\n",
        "\n",
        "# Print the DataFrame 'df'\n",
        "print(\"DataFrame 'df':\")\n",
        "print(df)\n",
        "\n",
        "# Test Case 1: Find the city with the largest population\n",
        "city_with_largest_population = df[df['Population'] == df['Population'].max()]['City'].values[0]\n",
        "print(\"\\nCity with the Largest Population:\", city_with_largest_population)\n",
        "\n",
        "# Test Case 2: Calculate the total population of all cities in the DataFrame\n",
        "total_population = df['Population'].sum()\n",
        "print(\"\\nTotal Population of All Cities:\", total_population)\n"
      ],
      "metadata": {
        "colab": {
          "base_uri": "https://localhost:8080/"
        },
        "id": "XoG8PB56l190",
        "outputId": "e488eb81-c48b-4c6d-fdda-9fa1021a4b04"
      },
      "execution_count": 34,
      "outputs": [
        {
          "output_type": "stream",
          "name": "stdout",
          "text": [
            "DataFrame 'df':\n",
            "          City  Population\n",
            "0     New York     8623000\n",
            "1  Los Angeles     3999759\n",
            "2      Chicago     2716000\n",
            "\n",
            "City with the Largest Population: New York\n",
            "\n",
            "Total Population of All Cities: 15338759\n"
          ]
        }
      ]
    },
    {
      "cell_type": "markdown",
      "source": [
        "3"
      ],
      "metadata": {
        "id": "SypULVWglp7-"
      }
    },
    {
      "cell_type": "code",
      "source": [
        "import numpy as np\n",
        "\n",
        "# Create the NumPy array 'arr' with 20 random values\n",
        "arr = np.random.rand(20)\n",
        "\n",
        "# Print the array 'arr'\n",
        "print(\"NumPy Array 'arr':\")\n",
        "print(arr)\n",
        "\n",
        "# Test Case 1: Calculate the mean of 'arr'\n",
        "mean_of_arr = np.mean(arr)\n",
        "print(\"\\nMean of 'arr':\", mean_of_arr)\n",
        "\n",
        "# Test Case 2: Count how many values in 'arr' are greater than 0.5\n",
        "count_greater_than_0_5 = np.sum(arr > 0.5)\n",
        "print(\"\\nNumber of Values in 'arr' Greater Than 0.5:\", count_greater_than_0_5)\n"
      ],
      "metadata": {
        "colab": {
          "base_uri": "https://localhost:8080/"
        },
        "id": "5wl5qJBSlq1O",
        "outputId": "10633e9f-22e7-4de2-99a7-8b1a62e5c2b5"
      },
      "execution_count": 33,
      "outputs": [
        {
          "output_type": "stream",
          "name": "stdout",
          "text": [
            "NumPy Array 'arr':\n",
            "[0.45416588 0.02311904 0.61248806 0.16810942 0.19912774 0.36003775\n",
            " 0.12177616 0.3785739  0.97984488 0.63345512 0.34555647 0.42538962\n",
            " 0.76571426 0.32874151 0.35749664 0.48780179 0.56275627 0.64419738\n",
            " 0.27200399 0.69721468]\n",
            "\n",
            "Mean of 'arr': 0.44087852749137213\n",
            "\n",
            "Number of Values in 'arr' Greater Than 0.5: 7\n"
          ]
        }
      ]
    },
    {
      "cell_type": "markdown",
      "source": [
        "4"
      ],
      "metadata": {
        "id": "nS5iTvGnlgCz"
      }
    },
    {
      "cell_type": "code",
      "source": [
        "import pandas as pd\n",
        "\n",
        "# Create the DataFrame 'df'\n",
        "data = {'ProductID': [101, 102, 103],\n",
        "        'ProductName': [\"Laptop\", \"Smartphone\", \"Tablet\"],\n",
        "        'Price': [800, 400, 250]}\n",
        "\n",
        "df = pd.DataFrame(data)\n",
        "\n",
        "# Print the DataFrame 'df'\n",
        "print(\"DataFrame 'df':\")\n",
        "print(df)\n",
        "\n",
        "# Test Case 1: Find the product with the highest price\n",
        "product_with_highest_price = df[df['Price'] == df['Price'].max()]['ProductName'].values[0]\n",
        "print(\"\\nProduct with the Highest Price:\", product_with_highest_price)\n",
        "\n",
        "# Test Case 2: Calculate the total cost of all products in the DataFrame\n",
        "total_cost = df['Price'].sum()\n",
        "print(\"\\nTotal Cost of All Products:\", total_cost)\n"
      ],
      "metadata": {
        "colab": {
          "base_uri": "https://localhost:8080/"
        },
        "id": "ahhAWm8llhBI",
        "outputId": "2060e271-7db8-45a8-af2a-82ed2e215558"
      },
      "execution_count": 32,
      "outputs": [
        {
          "output_type": "stream",
          "name": "stdout",
          "text": [
            "DataFrame 'df':\n",
            "   ProductID ProductName  Price\n",
            "0        101      Laptop    800\n",
            "1        102  Smartphone    400\n",
            "2        103      Tablet    250\n",
            "\n",
            "Product with the Highest Price: Laptop\n",
            "\n",
            "Total Cost of All Products: 1450\n"
          ]
        }
      ]
    },
    {
      "cell_type": "markdown",
      "source": [
        "5"
      ],
      "metadata": {
        "id": "J2U10bnjlU8F"
      }
    },
    {
      "cell_type": "code",
      "source": [
        "import pandas as pd\n",
        "\n",
        "# Create the DataFrame 'df'\n",
        "data = {'City': [\"London\", \"Paris\", \"Berlin\"],\n",
        "        'Population': [8787892, 2206488, 3644826],\n",
        "        'Area (in square miles)': [607, 40.7, 344]}\n",
        "\n",
        "df = pd.DataFrame(data)\n",
        "\n",
        "# Print the DataFrame 'df'\n",
        "print(\"DataFrame 'df':\")\n",
        "print(df)\n",
        "\n",
        "# Test Case 1: Find the city with the highest population density (Population/Area)\n",
        "df['Population Density'] = df['Population'] / df['Area (in square miles)']\n",
        "city_with_highest_density = df[df['Population Density'] == df['Population Density'].max()]['City'].values[0]\n",
        "print(\"\\nCity with the Highest Population Density:\", city_with_highest_density)\n",
        "\n",
        "# Test Case 2: Calculate the total area of all cities in the DataFrame\n",
        "total_area = df['Area (in square miles)'].sum()\n",
        "print(\"\\nTotal Area of All Cities:\", total_area)\n"
      ],
      "metadata": {
        "colab": {
          "base_uri": "https://localhost:8080/"
        },
        "id": "NgO2qOu0lWfm",
        "outputId": "d90acedc-7db3-41c4-e7d9-d827b16afe75"
      },
      "execution_count": 31,
      "outputs": [
        {
          "output_type": "stream",
          "name": "stdout",
          "text": [
            "DataFrame 'df':\n",
            "     City  Population  Area (in square miles)\n",
            "0  London     8787892                   607.0\n",
            "1   Paris     2206488                    40.7\n",
            "2  Berlin     3644826                   344.0\n",
            "\n",
            "City with the Highest Population Density: Paris\n",
            "\n",
            "Total Area of All Cities: 991.7\n"
          ]
        }
      ]
    },
    {
      "cell_type": "markdown",
      "source": [
        "6"
      ],
      "metadata": {
        "id": "p4pCu_rrlNUr"
      }
    },
    {
      "cell_type": "code",
      "source": [
        "import numpy as np\n",
        "\n",
        "# Create the NumPy array 'arr' with 25 random values between 0 and 1\n",
        "arr = np.random.rand(25)\n",
        "\n",
        "# Print the array 'arr'\n",
        "print(\"NumPy Array 'arr':\")\n",
        "print(arr)\n",
        "\n",
        "# Test Case 1: Calculate the median value of 'arr'\n",
        "median_of_arr = np.median(arr)\n",
        "print(\"\\nMedian of 'arr':\", median_of_arr)\n",
        "\n",
        "# Test Case 2: Count how many values in 'arr' are less than 0.3\n",
        "count_less_than_0_3 = np.sum(arr < 0.3)\n",
        "print(\"\\nNumber of Values in 'arr' Less Than 0.3:\", count_less_than_0_3)\n"
      ],
      "metadata": {
        "colab": {
          "base_uri": "https://localhost:8080/"
        },
        "id": "j5LDOxuNlOV8",
        "outputId": "6deac43a-3e94-4cbc-c071-dbf5f5d40458"
      },
      "execution_count": 30,
      "outputs": [
        {
          "output_type": "stream",
          "name": "stdout",
          "text": [
            "NumPy Array 'arr':\n",
            "[0.32900314 0.24095291 0.07082871 0.7724764  0.0221149  0.40329163\n",
            " 0.03657082 0.53757408 0.99749021 0.43689682 0.76873591 0.61877519\n",
            " 0.36177965 0.08042462 0.19706089 0.58260793 0.05672772 0.995889\n",
            " 0.57389873 0.71765938 0.22843122 0.82806041 0.50375774 0.54364021\n",
            " 0.35525063]\n",
            "\n",
            "Median of 'arr': 0.4368968158455745\n",
            "\n",
            "Number of Values in 'arr' Less Than 0.3: 8\n"
          ]
        }
      ]
    },
    {
      "cell_type": "markdown",
      "source": [
        "7"
      ],
      "metadata": {
        "id": "9EZ6DxNPlD3v"
      }
    },
    {
      "cell_type": "code",
      "source": [
        "import pandas as pd\n",
        "\n",
        "# Create the DataFrame 'df'\n",
        "data = {'Country': [\"USA\", \"China\", \"Japan\"],\n",
        "        'GDP (in billions USD)': [21427, 14342, 5082]}\n",
        "\n",
        "df = pd.DataFrame(data)\n",
        "\n",
        "# Print the DataFrame 'df'\n",
        "print(\"DataFrame 'df':\")\n",
        "print(df)\n",
        "\n",
        "# Test Case 1: Find the country with the highest GDP\n",
        "country_with_highest_gdp = df[df['GDP (in billions USD)'] == df['GDP (in billions USD)'].max()]['Country'].values[0]\n",
        "print(\"\\nCountry with the Highest GDP:\", country_with_highest_gdp)\n",
        "\n",
        "# Test Case 2: Calculate the total GDP of all countries in the DataFrame\n",
        "total_gdp = df['GDP (in billions USD)'].sum()\n",
        "print(\"\\nTotal GDP of All Countries:\", total_gdp)\n"
      ],
      "metadata": {
        "colab": {
          "base_uri": "https://localhost:8080/"
        },
        "id": "mIkgfMIulE-I",
        "outputId": "aedf3236-e9a3-4b86-943b-9630a10d3f81"
      },
      "execution_count": 29,
      "outputs": [
        {
          "output_type": "stream",
          "name": "stdout",
          "text": [
            "DataFrame 'df':\n",
            "  Country  GDP (in billions USD)\n",
            "0     USA                  21427\n",
            "1   China                  14342\n",
            "2   Japan                   5082\n",
            "\n",
            "Country with the Highest GDP: USA\n",
            "\n",
            "Total GDP of All Countries: 40851\n"
          ]
        }
      ]
    },
    {
      "cell_type": "markdown",
      "source": [
        "8"
      ],
      "metadata": {
        "id": "296aGemFk7O2"
      }
    },
    {
      "cell_type": "code",
      "source": [
        "import pandas as pd\n",
        "\n",
        "# Create the DataFrame 'df'\n",
        "data = {'Name': [\"Alice\", \"Bob\", \"Charlie\", \"David\"],\n",
        "        'Age': [25, 30, 22, 35],\n",
        "        'Salary': [60000, 75000, 80000, 90000]}\n",
        "\n",
        "df = pd.DataFrame(data)\n",
        "\n",
        "# Print the DataFrame 'df'\n",
        "print(\"DataFrame 'df':\")\n",
        "print(df)\n",
        "\n",
        "# Calculate the average age of employees with a salary greater than 70000\n",
        "average_age_high_salary = df[df['Salary'] > 70000]['Age'].mean()\n",
        "print(\"\\nAverage Age of Employees with Salary > 70000:\", average_age_high_salary)\n",
        "\n",
        "# Find the name of the oldest employee\n",
        "oldest_employee_name = df[df['Age'] == df['Age'].max()]['Name'].values[0]\n",
        "print(\"\\nName of the Oldest Employee:\", oldest_employee_name)\n",
        "\n",
        "# Add a new employee to the DataFrame\n",
        "new_employee_data = {'Name': [\"Eva\"], 'Age': [28], 'Salary': [72000]}\n",
        "df = df.append(pd.DataFrame(new_employee_data), ignore_index=True)\n",
        "\n",
        "# Print the updated DataFrame 'df'\n",
        "print(\"\\nUpdated DataFrame 'df' with Eva:\")\n",
        "print(df)\n"
      ],
      "metadata": {
        "colab": {
          "base_uri": "https://localhost:8080/"
        },
        "id": "EJstaVIRk9qH",
        "outputId": "85f85515-0624-4e62-ff79-bdb3584ce4c1"
      },
      "execution_count": 28,
      "outputs": [
        {
          "output_type": "stream",
          "name": "stdout",
          "text": [
            "DataFrame 'df':\n",
            "      Name  Age  Salary\n",
            "0    Alice   25   60000\n",
            "1      Bob   30   75000\n",
            "2  Charlie   22   80000\n",
            "3    David   35   90000\n",
            "\n",
            "Average Age of Employees with Salary > 70000: 29.0\n",
            "\n",
            "Name of the Oldest Employee: David\n",
            "\n",
            "Updated DataFrame 'df' with Eva:\n",
            "      Name  Age  Salary\n",
            "0    Alice   25   60000\n",
            "1      Bob   30   75000\n",
            "2  Charlie   22   80000\n",
            "3    David   35   90000\n",
            "4      Eva   28   72000\n"
          ]
        },
        {
          "output_type": "stream",
          "name": "stderr",
          "text": [
            "<ipython-input-28-50f134c80a28>:24: FutureWarning: The frame.append method is deprecated and will be removed from pandas in a future version. Use pandas.concat instead.\n",
            "  df = df.append(pd.DataFrame(new_employee_data), ignore_index=True)\n"
          ]
        }
      ]
    },
    {
      "cell_type": "markdown",
      "source": [
        "9"
      ],
      "metadata": {
        "id": "D_e2r0oxkwei"
      }
    },
    {
      "cell_type": "code",
      "source": [
        "import numpy as np\n",
        "\n",
        "# Create the NumPy array 'arr' with 25 random integers\n",
        "arr = np.random.randint(-100, 101, 25)\n",
        "\n",
        "# Print the array 'arr'\n",
        "print(\"NumPy Array 'arr':\")\n",
        "print(arr)\n",
        "\n",
        "# Calculate the sum of all values in 'arr' that are greater than or equal to 0\n",
        "sum_positive_values = np.sum(arr[arr >= 0])\n",
        "print(\"\\nSum of Positive Values in 'arr':\", sum_positive_values)\n",
        "\n",
        "# Find the median of 'arr'\n",
        "median_of_arr = np.median(arr)\n",
        "print(\"\\nMedian of 'arr':\", median_of_arr)\n",
        "\n",
        "# Replace all negative values in 'arr' with their absolute values\n",
        "arr[arr < 0] = np.abs(arr[arr < 0])\n",
        "\n",
        "# Print the updated array 'arr' with negative values replaced by their absolute values\n",
        "print(\"\\nUpdated 'arr' with Negative Values Replaced:\")\n",
        "print(arr)\n"
      ],
      "metadata": {
        "colab": {
          "base_uri": "https://localhost:8080/"
        },
        "id": "Fm1WKSKskxos",
        "outputId": "94496159-a94d-4563-e9f9-6618c16f5b77"
      },
      "execution_count": 27,
      "outputs": [
        {
          "output_type": "stream",
          "name": "stdout",
          "text": [
            "NumPy Array 'arr':\n",
            "[ 76  99  46  53  22 -54  96  70 -89  76  23  51 -69 -72  83  50 -18 -77\n",
            " -87 -92 -10 -67  93 -46 -69]\n",
            "\n",
            "Sum of Positive Values in 'arr': 838\n",
            "\n",
            "Median of 'arr': 22.0\n",
            "\n",
            "Updated 'arr' with Negative Values Replaced:\n",
            "[76 99 46 53 22 54 96 70 89 76 23 51 69 72 83 50 18 77 87 92 10 67 93 46\n",
            " 69]\n"
          ]
        }
      ]
    },
    {
      "cell_type": "markdown",
      "source": [
        "10"
      ],
      "metadata": {
        "id": "Hqve5VfXkiz1"
      }
    },
    {
      "cell_type": "code",
      "source": [
        "import pandas as pd\n",
        "\n",
        "# Create the DataFrame 'df'\n",
        "data = {'Product': [\"Laptop\", \"Tablet\", \"Smartphone\", \"Desk\"],\n",
        "        'Price': [800, 300, 500, 150],\n",
        "        'Category': [\"Electronics\", \"Electronics\", \"Electronics\", \"Furniture\"]}\n",
        "\n",
        "df = pd.DataFrame(data)\n",
        "\n",
        "# Print the DataFrame 'df'\n",
        "print(\"DataFrame 'df':\")\n",
        "print(df)\n",
        "\n",
        "# Calculate the total price of all products in the \"Electronics\" category\n",
        "total_price_electronics = df[df['Category'] == \"Electronics\"]['Price'].sum()\n",
        "print(\"\\nTotal Price of Electronics Products:\", total_price_electronics)\n",
        "\n",
        "# Find the product with the highest price\n",
        "product_with_highest_price = df[df['Price'] == df['Price'].max()]['Product'].values[0]\n",
        "print(\"\\nProduct with the Highest Price:\", product_with_highest_price)\n",
        "\n",
        "# Add a new product to the DataFrame\n",
        "new_product_data = {'Product': [\"Chair\"], 'Price': [80], 'Category': [\"Furniture\"]}\n",
        "df = df.append(pd.DataFrame(new_product_data), ignore_index=True)\n",
        "\n",
        "# Print the updated DataFrame 'df' with the new product\n",
        "print(\"\\nUpdated DataFrame 'df' with Chair:\")\n",
        "print(df)\n"
      ],
      "metadata": {
        "colab": {
          "base_uri": "https://localhost:8080/"
        },
        "id": "ehsxAS0zklW4",
        "outputId": "c31e26c2-8a60-43e5-e78e-57c4e0c1b271"
      },
      "execution_count": 26,
      "outputs": [
        {
          "output_type": "stream",
          "name": "stdout",
          "text": [
            "DataFrame 'df':\n",
            "      Product  Price     Category\n",
            "0      Laptop    800  Electronics\n",
            "1      Tablet    300  Electronics\n",
            "2  Smartphone    500  Electronics\n",
            "3        Desk    150    Furniture\n",
            "\n",
            "Total Price of Electronics Products: 1600\n",
            "\n",
            "Product with the Highest Price: Laptop\n",
            "\n",
            "Updated DataFrame 'df' with Chair:\n",
            "      Product  Price     Category\n",
            "0      Laptop    800  Electronics\n",
            "1      Tablet    300  Electronics\n",
            "2  Smartphone    500  Electronics\n",
            "3        Desk    150    Furniture\n",
            "4       Chair     80    Furniture\n"
          ]
        },
        {
          "output_type": "stream",
          "name": "stderr",
          "text": [
            "<ipython-input-26-dccb62c21882>:24: FutureWarning: The frame.append method is deprecated and will be removed from pandas in a future version. Use pandas.concat instead.\n",
            "  df = df.append(pd.DataFrame(new_product_data), ignore_index=True)\n"
          ]
        }
      ]
    },
    {
      "cell_type": "code",
      "source": [
        "import pandas as pd\n",
        "\n",
        "# Create the DataFrame 'df'\n",
        "data = {'City': [\"Denver\", \"Nairobi\", \"Kathmandu\"],\n",
        "        'Elevation (in meters)': [1609, 1795, 1400]}\n",
        "\n",
        "df = pd.DataFrame(data)\n",
        "\n",
        "# Print the DataFrame 'df'\n",
        "print(\"DataFrame 'df':\")\n",
        "print(df)\n",
        "\n",
        "# Task for the user: Find the city with the lowest elevation and store its name in a variable 'lowest_elevation_city.'\n",
        "lowest_elevation_city = df[df['Elevation (in meters)'] == df['Elevation (in meters)'].min()]['City'].values[0]\n",
        "print(\"\\nCity with the Lowest Elevation:\", lowest_elevation_city)\n"
      ],
      "metadata": {
        "colab": {
          "base_uri": "https://localhost:8080/"
        },
        "id": "auulLzbmi5mB",
        "outputId": "6caa61cd-31b6-480f-c3db-696c07ef16e2"
      },
      "execution_count": 25,
      "outputs": [
        {
          "output_type": "stream",
          "name": "stdout",
          "text": [
            "DataFrame 'df':\n",
            "        City  Elevation (in meters)\n",
            "0     Denver                   1609\n",
            "1    Nairobi                   1795\n",
            "2  Kathmandu                   1400\n",
            "\n",
            "City with the Lowest Elevation: Kathmandu\n"
          ]
        }
      ]
    },
    {
      "cell_type": "code",
      "source": [],
      "metadata": {
        "id": "UpDzualPkkdJ"
      },
      "execution_count": null,
      "outputs": []
    }
  ]
}